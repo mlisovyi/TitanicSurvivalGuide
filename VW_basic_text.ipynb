{
 "cells": [
  {
   "cell_type": "code",
   "execution_count": 1,
   "metadata": {
    "ExecuteTime": {
     "end_time": "2018-10-17T15:14:00.094089Z",
     "start_time": "2018-10-17T15:13:56.528646Z"
    }
   },
   "outputs": [],
   "source": [
    "import pandas as pd\n",
    "import numpy as np\n",
    "import matplotlib.pyplot as plt\n",
    "import seaborn as sns\n",
    "%matplotlib inline\n",
    "\n",
    "import os\n",
    "import pickle"
   ]
  },
  {
   "cell_type": "markdown",
   "metadata": {},
   "source": [
    "## Read the original Data in\n",
    "\n",
    "Let's start by reading in the train and test csv files into a pandas dataframe.\n",
    "If one uses kaggle-api to download datasets, they are available in a standardised location `~/.kaggle/competitions/`"
   ]
  },
  {
   "cell_type": "code",
   "execution_count": 3,
   "metadata": {
    "ExecuteTime": {
     "end_time": "2018-10-17T15:15:11.675308Z",
     "start_time": "2018-10-17T15:15:11.663600Z"
    },
    "scrolled": true
   },
   "outputs": [],
   "source": [
    "train = pd.read_csv('~/.kaggle/competitions/titanic/train.csv')\n",
    "#we will not use test dataset in this exercise\n",
    "#test = pd.read_csv('~/.kaggle/competitions/titanic/test.csv')"
   ]
  },
  {
   "cell_type": "code",
   "execution_count": 4,
   "metadata": {
    "ExecuteTime": {
     "end_time": "2018-10-17T15:15:12.837713Z",
     "start_time": "2018-10-17T15:15:12.816925Z"
    }
   },
   "outputs": [
    {
     "data": {
      "text/html": [
       "<div>\n",
       "<style scoped>\n",
       "    .dataframe tbody tr th:only-of-type {\n",
       "        vertical-align: middle;\n",
       "    }\n",
       "\n",
       "    .dataframe tbody tr th {\n",
       "        vertical-align: top;\n",
       "    }\n",
       "\n",
       "    .dataframe thead th {\n",
       "        text-align: right;\n",
       "    }\n",
       "</style>\n",
       "<table border=\"1\" class=\"dataframe\">\n",
       "  <thead>\n",
       "    <tr style=\"text-align: right;\">\n",
       "      <th></th>\n",
       "      <th>PassengerId</th>\n",
       "      <th>Survived</th>\n",
       "      <th>Pclass</th>\n",
       "      <th>Name</th>\n",
       "      <th>Sex</th>\n",
       "      <th>Age</th>\n",
       "      <th>SibSp</th>\n",
       "      <th>Parch</th>\n",
       "      <th>Ticket</th>\n",
       "      <th>Fare</th>\n",
       "      <th>Cabin</th>\n",
       "      <th>Embarked</th>\n",
       "    </tr>\n",
       "  </thead>\n",
       "  <tbody>\n",
       "    <tr>\n",
       "      <th>0</th>\n",
       "      <td>1</td>\n",
       "      <td>0</td>\n",
       "      <td>3</td>\n",
       "      <td>Braund, Mr. Owen Harris</td>\n",
       "      <td>male</td>\n",
       "      <td>22.0</td>\n",
       "      <td>1</td>\n",
       "      <td>0</td>\n",
       "      <td>A/5 21171</td>\n",
       "      <td>7.2500</td>\n",
       "      <td>NaN</td>\n",
       "      <td>S</td>\n",
       "    </tr>\n",
       "    <tr>\n",
       "      <th>1</th>\n",
       "      <td>2</td>\n",
       "      <td>1</td>\n",
       "      <td>1</td>\n",
       "      <td>Cumings, Mrs. John Bradley (Florence Briggs Th...</td>\n",
       "      <td>female</td>\n",
       "      <td>38.0</td>\n",
       "      <td>1</td>\n",
       "      <td>0</td>\n",
       "      <td>PC 17599</td>\n",
       "      <td>71.2833</td>\n",
       "      <td>C85</td>\n",
       "      <td>C</td>\n",
       "    </tr>\n",
       "    <tr>\n",
       "      <th>2</th>\n",
       "      <td>3</td>\n",
       "      <td>1</td>\n",
       "      <td>3</td>\n",
       "      <td>Heikkinen, Miss. Laina</td>\n",
       "      <td>female</td>\n",
       "      <td>26.0</td>\n",
       "      <td>0</td>\n",
       "      <td>0</td>\n",
       "      <td>STON/O2. 3101282</td>\n",
       "      <td>7.9250</td>\n",
       "      <td>NaN</td>\n",
       "      <td>S</td>\n",
       "    </tr>\n",
       "    <tr>\n",
       "      <th>3</th>\n",
       "      <td>4</td>\n",
       "      <td>1</td>\n",
       "      <td>1</td>\n",
       "      <td>Futrelle, Mrs. Jacques Heath (Lily May Peel)</td>\n",
       "      <td>female</td>\n",
       "      <td>35.0</td>\n",
       "      <td>1</td>\n",
       "      <td>0</td>\n",
       "      <td>113803</td>\n",
       "      <td>53.1000</td>\n",
       "      <td>C123</td>\n",
       "      <td>S</td>\n",
       "    </tr>\n",
       "    <tr>\n",
       "      <th>4</th>\n",
       "      <td>5</td>\n",
       "      <td>0</td>\n",
       "      <td>3</td>\n",
       "      <td>Allen, Mr. William Henry</td>\n",
       "      <td>male</td>\n",
       "      <td>35.0</td>\n",
       "      <td>0</td>\n",
       "      <td>0</td>\n",
       "      <td>373450</td>\n",
       "      <td>8.0500</td>\n",
       "      <td>NaN</td>\n",
       "      <td>S</td>\n",
       "    </tr>\n",
       "  </tbody>\n",
       "</table>\n",
       "</div>"
      ],
      "text/plain": [
       "   PassengerId  Survived  Pclass  \\\n",
       "0            1         0       3   \n",
       "1            2         1       1   \n",
       "2            3         1       3   \n",
       "3            4         1       1   \n",
       "4            5         0       3   \n",
       "\n",
       "                                                Name     Sex   Age  SibSp  \\\n",
       "0                            Braund, Mr. Owen Harris    male  22.0      1   \n",
       "1  Cumings, Mrs. John Bradley (Florence Briggs Th...  female  38.0      1   \n",
       "2                             Heikkinen, Miss. Laina  female  26.0      0   \n",
       "3       Futrelle, Mrs. Jacques Heath (Lily May Peel)  female  35.0      1   \n",
       "4                           Allen, Mr. William Henry    male  35.0      0   \n",
       "\n",
       "   Parch            Ticket     Fare Cabin Embarked  \n",
       "0      0         A/5 21171   7.2500   NaN        S  \n",
       "1      0          PC 17599  71.2833   C85        C  \n",
       "2      0  STON/O2. 3101282   7.9250   NaN        S  \n",
       "3      0            113803  53.1000  C123        S  \n",
       "4      0            373450   8.0500   NaN        S  "
      ]
     },
     "execution_count": 4,
     "metadata": {},
     "output_type": "execute_result"
    }
   ],
   "source": [
    "train.head()"
   ]
  },
  {
   "cell_type": "code",
   "execution_count": 5,
   "metadata": {
    "ExecuteTime": {
     "end_time": "2018-10-17T15:15:13.604422Z",
     "start_time": "2018-10-17T15:15:13.599682Z"
    }
   },
   "outputs": [],
   "source": [
    "train_mini = train[['Name', 'Sex', 'Survived']]"
   ]
  },
  {
   "cell_type": "code",
   "execution_count": 6,
   "metadata": {
    "ExecuteTime": {
     "end_time": "2018-10-17T15:15:13.841482Z",
     "start_time": "2018-10-17T15:15:13.837404Z"
    }
   },
   "outputs": [],
   "source": [
    "def getTitle(name):\n",
    "    titles = ['Dr.', 'Mr.', 'Mrs.', 'Miss.', 'Master.']\n",
    "    for title in titles:\n",
    "        if title in name:\n",
    "            return title\n",
    "    #if none of the defined Titles\n",
    "    return 'Other'"
   ]
  },
  {
   "cell_type": "code",
   "execution_count": 7,
   "metadata": {
    "ExecuteTime": {
     "end_time": "2018-10-17T15:15:14.221445Z",
     "start_time": "2018-10-17T15:15:14.188592Z"
    }
   },
   "outputs": [
    {
     "name": "stderr",
     "output_type": "stream",
     "text": [
      "/home/mlisovyi/Drive/anaconda3/envs/dfine_py36/lib/python3.6/site-packages/ipykernel_launcher.py:1: SettingWithCopyWarning: \n",
      "A value is trying to be set on a copy of a slice from a DataFrame.\n",
      "Try using .loc[row_indexer,col_indexer] = value instead\n",
      "\n",
      "See the caveats in the documentation: http://pandas.pydata.org/pandas-docs/stable/indexing.html#indexing-view-versus-copy\n",
      "  \"\"\"Entry point for launching an IPython kernel.\n"
     ]
    }
   ],
   "source": [
    "train_mini['Title']  = train_mini['Name'].apply(getTitle)"
   ]
  },
  {
   "cell_type": "code",
   "execution_count": 8,
   "metadata": {
    "ExecuteTime": {
     "end_time": "2018-10-17T15:15:14.776282Z",
     "start_time": "2018-10-17T15:15:14.766169Z"
    }
   },
   "outputs": [
    {
     "data": {
      "text/html": [
       "<div>\n",
       "<style scoped>\n",
       "    .dataframe tbody tr th:only-of-type {\n",
       "        vertical-align: middle;\n",
       "    }\n",
       "\n",
       "    .dataframe tbody tr th {\n",
       "        vertical-align: top;\n",
       "    }\n",
       "\n",
       "    .dataframe thead th {\n",
       "        text-align: right;\n",
       "    }\n",
       "</style>\n",
       "<table border=\"1\" class=\"dataframe\">\n",
       "  <thead>\n",
       "    <tr style=\"text-align: right;\">\n",
       "      <th></th>\n",
       "      <th>Name</th>\n",
       "      <th>Sex</th>\n",
       "      <th>Survived</th>\n",
       "      <th>Title</th>\n",
       "    </tr>\n",
       "  </thead>\n",
       "  <tbody>\n",
       "    <tr>\n",
       "      <th>0</th>\n",
       "      <td>Braund, Mr. Owen Harris</td>\n",
       "      <td>male</td>\n",
       "      <td>0</td>\n",
       "      <td>Mr.</td>\n",
       "    </tr>\n",
       "    <tr>\n",
       "      <th>1</th>\n",
       "      <td>Cumings, Mrs. John Bradley (Florence Briggs Th...</td>\n",
       "      <td>female</td>\n",
       "      <td>1</td>\n",
       "      <td>Mrs.</td>\n",
       "    </tr>\n",
       "    <tr>\n",
       "      <th>2</th>\n",
       "      <td>Heikkinen, Miss. Laina</td>\n",
       "      <td>female</td>\n",
       "      <td>1</td>\n",
       "      <td>Miss.</td>\n",
       "    </tr>\n",
       "    <tr>\n",
       "      <th>3</th>\n",
       "      <td>Futrelle, Mrs. Jacques Heath (Lily May Peel)</td>\n",
       "      <td>female</td>\n",
       "      <td>1</td>\n",
       "      <td>Mrs.</td>\n",
       "    </tr>\n",
       "    <tr>\n",
       "      <th>4</th>\n",
       "      <td>Allen, Mr. William Henry</td>\n",
       "      <td>male</td>\n",
       "      <td>0</td>\n",
       "      <td>Mr.</td>\n",
       "    </tr>\n",
       "  </tbody>\n",
       "</table>\n",
       "</div>"
      ],
      "text/plain": [
       "                                                Name     Sex  Survived  Title\n",
       "0                            Braund, Mr. Owen Harris    male         0    Mr.\n",
       "1  Cumings, Mrs. John Bradley (Florence Briggs Th...  female         1   Mrs.\n",
       "2                             Heikkinen, Miss. Laina  female         1  Miss.\n",
       "3       Futrelle, Mrs. Jacques Heath (Lily May Peel)  female         1   Mrs.\n",
       "4                           Allen, Mr. William Henry    male         0    Mr."
      ]
     },
     "execution_count": 8,
     "metadata": {},
     "output_type": "execute_result"
    }
   ],
   "source": [
    "train_mini.head()"
   ]
  },
  {
   "cell_type": "code",
   "execution_count": 9,
   "metadata": {
    "ExecuteTime": {
     "end_time": "2018-10-17T15:15:15.211611Z",
     "start_time": "2018-10-17T15:15:15.094347Z"
    }
   },
   "outputs": [
    {
     "name": "stdout",
     "output_type": "stream",
     "text": [
      "Python 3.6.6\r\n"
     ]
    }
   ],
   "source": [
    "!python --version"
   ]
  },
  {
   "cell_type": "markdown",
   "metadata": {},
   "source": [
    "### Convert Survived label to follow the VW label convention"
   ]
  },
  {
   "cell_type": "code",
   "execution_count": 10,
   "metadata": {
    "ExecuteTime": {
     "end_time": "2018-10-17T15:15:15.550520Z",
     "start_time": "2018-10-17T15:15:15.545350Z"
    }
   },
   "outputs": [],
   "source": [
    "def convert_labels_sklearn_to_vw(y_sklearn):\n",
    "    return y_sklearn.map({1:1, 0:-1})\n",
    "\n",
    "def convert_labels_vw_to_sklearn(y_vw):\n",
    "    return y_vw.map({1:1, -1:0})"
   ]
  },
  {
   "cell_type": "code",
   "execution_count": 11,
   "metadata": {
    "ExecuteTime": {
     "end_time": "2018-10-17T15:15:16.897888Z",
     "start_time": "2018-10-17T15:15:16.893813Z"
    }
   },
   "outputs": [],
   "source": [
    "y = train_mini['Survived']\n",
    "y_vw = convert_labels_sklearn_to_vw(y)"
   ]
  },
  {
   "cell_type": "markdown",
   "metadata": {},
   "source": [
    "### Train: Prepare VW-native format (combine X and y)"
   ]
  },
  {
   "cell_type": "code",
   "execution_count": 12,
   "metadata": {
    "ExecuteTime": {
     "end_time": "2018-10-17T15:15:17.880087Z",
     "start_time": "2018-10-17T15:15:17.873916Z"
    }
   },
   "outputs": [],
   "source": [
    "def to_vw(X, y=None, namespace='Name'):\n",
    "    labels = '1' if y is None else y.astype(str)\n",
    "    prefix = labels + ' |' + namespace + ' '\n",
    "    if isinstance(X, pd.DataFrame):\n",
    "        return prefix + X.apply(lambda x: ' '.join(x), axis=1)\n",
    "    elif isinstance(X, pd.Series):\n",
    "        return prefix + X"
   ]
  },
  {
   "cell_type": "code",
   "execution_count": 13,
   "metadata": {
    "ExecuteTime": {
     "end_time": "2018-10-17T15:15:18.436409Z",
     "start_time": "2018-10-17T15:15:18.427406Z"
    }
   },
   "outputs": [],
   "source": [
    "train_vw = to_vw(train_mini['Name'], y_vw)\n",
    "train_title_vw = to_vw(train_mini['Title'], y_vw)"
   ]
  },
  {
   "cell_type": "code",
   "execution_count": 14,
   "metadata": {
    "ExecuteTime": {
     "end_time": "2018-10-17T15:15:19.908681Z",
     "start_time": "2018-10-17T15:15:19.903627Z"
    }
   },
   "outputs": [
    {
     "data": {
      "text/plain": [
       "0                     -1 |Name Braund, Mr. Owen Harris\n",
       "1    1 |Name Cumings, Mrs. John Bradley (Florence B...\n",
       "2                       1 |Name Heikkinen, Miss. Laina\n",
       "3    1 |Name Futrelle, Mrs. Jacques Heath (Lily May...\n",
       "4                    -1 |Name Allen, Mr. William Henry\n",
       "dtype: object"
      ]
     },
     "execution_count": 14,
     "metadata": {},
     "output_type": "execute_result"
    }
   ],
   "source": [
    "train_vw.head()"
   ]
  },
  {
   "cell_type": "code",
   "execution_count": 15,
   "metadata": {
    "ExecuteTime": {
     "end_time": "2018-10-17T15:15:20.628058Z",
     "start_time": "2018-10-17T15:15:20.623098Z"
    }
   },
   "outputs": [
    {
     "data": {
      "text/plain": [
       "0     -1 |Name Mr.\n",
       "1     1 |Name Mrs.\n",
       "2    1 |Name Miss.\n",
       "3     1 |Name Mrs.\n",
       "4     -1 |Name Mr.\n",
       "dtype: object"
      ]
     },
     "execution_count": 15,
     "metadata": {},
     "output_type": "execute_result"
    }
   ],
   "source": [
    "train_title_vw.head()"
   ]
  },
  {
   "cell_type": "markdown",
   "metadata": {},
   "source": [
    "### Test: Prepare VW-native format (only  X)"
   ]
  },
  {
   "cell_type": "code",
   "execution_count": 16,
   "metadata": {
    "ExecuteTime": {
     "end_time": "2018-10-17T15:15:21.410932Z",
     "start_time": "2018-10-17T15:15:21.408069Z"
    }
   },
   "outputs": [],
   "source": [
    "#test_vw = to_vw(test['Name'])"
   ]
  },
  {
   "cell_type": "code",
   "execution_count": 17,
   "metadata": {
    "ExecuteTime": {
     "end_time": "2018-10-17T15:15:21.615873Z",
     "start_time": "2018-10-17T15:15:21.613281Z"
    }
   },
   "outputs": [],
   "source": [
    "#test_vw.head()"
   ]
  },
  {
   "cell_type": "markdown",
   "metadata": {},
   "source": [
    "# Vowpal Wabbit"
   ]
  },
  {
   "cell_type": "code",
   "execution_count": 18,
   "metadata": {
    "ExecuteTime": {
     "end_time": "2018-10-17T15:15:22.579835Z",
     "start_time": "2018-10-17T15:15:22.456116Z"
    }
   },
   "outputs": [],
   "source": [
    "from vowpalwabbit.sklearn_vw import VWClassifier\n",
    "from vowpalwabbit.sklearn_vw import tovw\n",
    "\n",
    "from sklearn.model_selection import StratifiedKFold\n",
    "from sklearn.model_selection import KFold\n",
    "\n",
    "from sklearn.metrics import accuracy_score"
   ]
  },
  {
   "cell_type": "code",
   "execution_count": 19,
   "metadata": {
    "ExecuteTime": {
     "end_time": "2018-10-17T15:15:23.129863Z",
     "start_time": "2018-10-17T15:15:23.095809Z"
    },
    "hide_input": false,
    "scrolled": true
   },
   "outputs": [],
   "source": [
    "thres = 0.5 \n",
    "models = {'VW_passes1': VWClassifier(quiet=False, convert_to_vw=False, \n",
    "                                     passes=1, link='logistic', \n",
    "                                     pos_threshold=thres,\n",
    "                                     random_seed=314),          \n",
    "          'VW_passes2': VWClassifier(quiet=False, convert_to_vw=False, \n",
    "                                     passes=2, link='logistic', \n",
    "                                     pos_threshold=thres,\n",
    "                                     random_seed=314), \n",
    "          'VW_passes2_l2001': VWClassifier(quiet=False, convert_to_vw=False,\n",
    "                                           passes=2, link='logistic', \n",
    "                                           pos_threshold=thres,\n",
    "                                           random_seed=314, l2=0.01), \n",
    "          'VW_passes2_l25em4': VWClassifier(quiet=False, convert_to_vw=False, \n",
    "                                            passes=2, link='logistic', \n",
    "                                            pos_threshold=thres,\n",
    "                                            random_seed=314, l1=5e-4),  \n",
    "          'VW_passes3_l25em4': VWClassifier(quiet=False, convert_to_vw=False, \n",
    "                                            passes=3, link='logistic', \n",
    "                                            pos_threshold=thres,\n",
    "                                            random_seed=314, l1=5e-4),  \n",
    "          'VW_passes4_l25em4': VWClassifier(quiet=False, convert_to_vw=False, \n",
    "                                            passes=4, link='logistic', \n",
    "                                            pos_threshold=thres,\n",
    "                                            random_seed=314, l1=5e-4),  \n",
    "          'WomenSurvive': None,\n",
    "          'MenSurvive': None,\n",
    "          'AllSurvive': None,\n",
    "          'NooneSurvive': None}\n",
    "\n",
    "y_females = (train_mini['Sex'] == 'female').astype(int)\n",
    "y_males   = (train_mini['Sex'] != 'female').astype(int)\n",
    "\n",
    "#kfold = StratifiedKFold(n_splits=5, random_state=314, shuffle=True)\n",
    "kfold = KFold(n_splits=5, random_state=314, shuffle=True)\n",
    "\n",
    "def analyseAccuracy(data_vw):\n",
    "    scores = {}\n",
    "    for train_idx, valid_idx in kfold.split(data_vw, train_mini['Survived']):\n",
    "        train_vw_cv, valid_vw_cv = data_vw[train_idx], data_vw[valid_idx]\n",
    "        print(type(train_vw_cv))\n",
    "        for clf_name, clf in models.items():\n",
    "            # create lists to store kfold results\n",
    "            if 'valid_' + clf_name not in scores:\n",
    "                scores['valid_' + clf_name] = []\n",
    "                scores['train_' + clf_name] = []\n",
    "            if clf:\n",
    "                # evaluate VW classifiers\n",
    "                if isinstance(clf, VWClassifier) and hasattr(clf, 'fit_'):\n",
    "                    # reset VW if it has already been trained\n",
    "                    clf.get_vw().finish()\n",
    "                    clf.vw_ = None \n",
    "                # Fit the classifier\n",
    "                train_copy = train_vw_cv.copy()\n",
    "                clf.fit(train_copy)\n",
    "                del train_copy\n",
    "                # store VALIDATION accuracy for this fold\n",
    "                pred = (clf.decision_function(valid_vw_cv) > clf.pos_threshold).astype(int)\n",
    "                acc_valid = accuracy_score(y[valid_idx], pred)\n",
    "                scores['valid_' + clf_name].append(acc_valid)\n",
    "                #store TRAIN accuracy for this fold\n",
    "                pred = (clf.decision_function(train_vw_cv) > clf.pos_threshold).astype(int)\n",
    "                acc_train = accuracy_score(y[train_idx], pred)\n",
    "                scores['train_' + clf_name].append(acc_train)\n",
    "                del pred\n",
    "            else:\n",
    "                #evaluate also the gender-based dummy models\n",
    "                if 'Women' in clf_name:\n",
    "                    acc_train = accuracy_score(y[train_idx], y_females[train_idx])\n",
    "                    acc_valid = accuracy_score(y[valid_idx], y_females[valid_idx])\n",
    "                elif 'Men' in clf_name:\n",
    "                    acc_train = accuracy_score(y[train_idx], y_males[train_idx])\n",
    "                    acc_valid = accuracy_score(y[valid_idx], y_males[valid_idx])\n",
    "                elif 'All' in clf_name:\n",
    "                    acc_train = accuracy_score(y[train_idx], np.ones(train_vw_cv.shape))\n",
    "                    acc_valid = accuracy_score(y[valid_idx], np.ones(valid_vw_cv.shape))\n",
    "                else:\n",
    "                    acc_train = accuracy_score(y[train_idx], np.zeros(train_vw_cv.shape))\n",
    "                    acc_valid = accuracy_score(y[valid_idx], np.zeros(valid_vw_cv.shape))\n",
    "                scores['train_' + clf_name].append(acc_train)            \n",
    "                scores['valid_'+ clf_name].append(acc_valid)\n",
    "    return scores\n",
    "\n",
    "def plotAccuracy(scores_clf, suff=''):\n",
    "    # create the pd.DataFrames to store the average stats\n",
    "    acc_valid_cv_summary = pd.DataFrame(index=sorted(models.keys()), columns=['raw'], dtype=np.float32)\n",
    "    acc_train_cv_summary = pd.DataFrame(index=sorted(models.keys()), columns=['raw'], dtype=np.float32)\n",
    "    # fill in the average stats\n",
    "    for clf_name in models.keys():\n",
    "        acc_valid_cv_summary.loc[clf_name, 'raw'] = np.mean(scores_clf['valid_' + clf_name])\n",
    "        acc_train_cv_summary.loc[clf_name, 'raw'] = np.mean(scores_clf['train_' + clf_name])\n",
    "\n",
    "    #create a figure with 2 subplots\n",
    "    fig, ax = plt.subplots(ncols=2, figsize=(12,6))\n",
    "    # increase the white space to fil it long Y axis labels\n",
    "    fig.subplots_adjust(wspace=1.0)\n",
    "    \n",
    "    # The comparison of the two tells us about amount of overtraining\n",
    "    # performance of the VALIDATION sample \n",
    "    sns.heatmap(acc_valid_cv_summary, cmap='Blues', annot=True, vmin=0.75, vmax=0.9, ax=ax[0])\n",
    "    ax[0].set_title('Accuracy on VALIDATION sample ' + suff + '(mean from CV)')\n",
    "    # performance of the TRAINING sample \n",
    "    sns.heatmap(acc_train_cv_summary, cmap='Blues', annot=True, vmin=0.75, vmax=0.9, ax=ax[1])\n",
    "    ax[1].set_title('Accuracy on TRAIN sample ' + suff + '(mean from CV)')\n",
    "    "
   ]
  },
  {
   "cell_type": "code",
   "execution_count": 20,
   "metadata": {
    "ExecuteTime": {
     "end_time": "2018-10-17T15:15:27.183143Z",
     "start_time": "2018-10-17T15:15:23.932951Z"
    }
   },
   "outputs": [
    {
     "name": "stdout",
     "output_type": "stream",
     "text": [
      "<class 'pandas.core.series.Series'>\n",
      "<class 'pandas.core.series.Series'>\n",
      "<class 'pandas.core.series.Series'>\n",
      "<class 'pandas.core.series.Series'>\n",
      "<class 'pandas.core.series.Series'>\n",
      "<class 'pandas.core.series.Series'>\n",
      "<class 'pandas.core.series.Series'>\n",
      "<class 'pandas.core.series.Series'>\n",
      "<class 'pandas.core.series.Series'>\n",
      "<class 'pandas.core.series.Series'>\n"
     ]
    },
    {
     "data": {
      "image/png": "[encoded data removed]",
      "text/plain": [
       "<Figure size 864x432 with 4 Axes>"
      ]
     },
     "metadata": {
      "needs_background": "light"
     },
     "output_type": "display_data"
    },
    {
     "data": {
      "image/png": "[encoded data removed]",
      "text/plain": [
       "<Figure size 864x432 with 4 Axes>"
      ]
     },
     "metadata": {
      "needs_background": "light"
     },
     "output_type": "display_data"
    }
   ],
   "source": [
    "scores_Names = analyseAccuracy(train_vw)\n",
    "scores_Titles = analyseAccuracy(train_title_vw)\n",
    "\n",
    "plotAccuracy(scores_Names, 'using FULL NAME ')\n",
    "plotAccuracy(scores_Titles, 'using TITLE ONLY ')"
   ]
  },
  {
   "cell_type": "code",
   "execution_count": null,
   "metadata": {},
   "outputs": [],
   "source": []
  }
 ],
 "metadata": {
  "kernelspec": {
   "display_name": "Python 3",
   "language": "python",
   "name": "python3"
  },
  "language_info": {
   "codemirror_mode": {
    "name": "ipython",
    "version": 3
   },
   "file_extension": ".py",
   "mimetype": "text/x-python",
   "name": "python",
   "nbconvert_exporter": "python",
   "pygments_lexer": "ipython3",
   "version": "3.6.6"
  },
  "toc": {
   "base_numbering": 1,
   "nav_menu": {},
   "number_sections": true,
   "sideBar": true,
   "skip_h1_title": false,
   "title_cell": "Table of Contents",
   "title_sidebar": "Contents",
   "toc_cell": false,
   "toc_position": {},
   "toc_section_display": true,
   "toc_window_display": false
  }
 },
 "nbformat": 4,
 "nbformat_minor": 1
}
